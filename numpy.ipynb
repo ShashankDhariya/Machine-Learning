{
  "nbformat": 4,
  "nbformat_minor": 0,
  "metadata": {
    "colab": {
      "provenance": [],
      "toc_visible": true
    },
    "kernelspec": {
      "name": "python3",
      "display_name": "Python 3"
    },
    "language_info": {
      "name": "python"
    }
  },
  "cells": [
    {
      "cell_type": "markdown",
      "source": [
        "NumPy - Numberical Python (Faster & allows several maths operations)"
      ],
      "metadata": {
        "id": "CfenJxRAAnl1"
      }
    },
    {
      "cell_type": "code",
      "execution_count": 1,
      "metadata": {
        "id": "NmV-Y53pAdBR"
      },
      "outputs": [],
      "source": [
        "import numpy as np"
      ]
    },
    {
      "cell_type": "markdown",
      "source": [
        "List vs Numpy Array"
      ],
      "metadata": {
        "id": "BNcibp1dBHZs"
      }
    },
    {
      "cell_type": "code",
      "source": [
        "from time import process_time"
      ],
      "metadata": {
        "id": "osJBySjIBHCh"
      },
      "execution_count": 2,
      "outputs": []
    },
    {
      "cell_type": "code",
      "source": [
        "py_list = [i for i in range(100000)]\n",
        "\n",
        "start = process_time()\n",
        "py_list = [i + 5 for i in py_list]\n",
        "end = process_time()\n",
        "\n",
        "print('Time: ', end - start)"
      ],
      "metadata": {
        "colab": {
          "base_uri": "https://localhost:8080/"
        },
        "id": "KT2_vYI3A8Og",
        "outputId": "8b75abe6-54b4-47cc-c89c-6c1a6008be80"
      },
      "execution_count": 3,
      "outputs": [
        {
          "output_type": "stream",
          "name": "stdout",
          "text": [
            "Time:  0.01620515600000072\n"
          ]
        }
      ]
    },
    {
      "cell_type": "code",
      "source": [
        "np_array = np.array([i for i in range(100000)])\n",
        "\n",
        "start = process_time()\n",
        "np_array += 5\n",
        "end = process_time()\n",
        "\n",
        "print('Time: ', end - start)"
      ],
      "metadata": {
        "colab": {
          "base_uri": "https://localhost:8080/"
        },
        "id": "YEdTUqjfBq4y",
        "outputId": "b0c2b746-d88c-4925-91d1-d60d53270689"
      },
      "execution_count": 5,
      "outputs": [
        {
          "output_type": "stream",
          "name": "stdout",
          "text": [
            "Time:  0.001371622999999822\n"
          ]
        }
      ]
    },
    {
      "cell_type": "markdown",
      "source": [
        "NumPy Arrays"
      ],
      "metadata": {
        "id": "RAqbvGNaCJ3W"
      }
    },
    {
      "cell_type": "code",
      "source": [
        "np_array = np.array([1,2,3,4])\n",
        "print(np_array)\n",
        "type(np_array)"
      ],
      "metadata": {
        "colab": {
          "base_uri": "https://localhost:8080/"
        },
        "id": "sAlAS07GCJio",
        "outputId": "9db28c82-a68a-42f5-ed9a-a82887c0b9a2"
      },
      "execution_count": 10,
      "outputs": [
        {
          "output_type": "stream",
          "name": "stdout",
          "text": [
            "[1 2 3 4]\n"
          ]
        },
        {
          "output_type": "execute_result",
          "data": {
            "text/plain": [
              "numpy.ndarray"
            ]
          },
          "metadata": {},
          "execution_count": 10
        }
      ]
    },
    {
      "cell_type": "code",
      "source": [
        "# 2D Array\n",
        "np_array = np.array([(1,2,3,4), (5,6,7,8)])\n",
        "print(np_array)\n",
        "np_array.shape"
      ],
      "metadata": {
        "colab": {
          "base_uri": "https://localhost:8080/"
        },
        "id": "QwQpko_3B8GZ",
        "outputId": "7b554a04-086c-4c60-e7cb-0f4db466f4c1"
      },
      "execution_count": 12,
      "outputs": [
        {
          "output_type": "stream",
          "name": "stdout",
          "text": [
            "[[1 2 3 4]\n",
            " [5 6 7 8]]\n"
          ]
        },
        {
          "output_type": "execute_result",
          "data": {
            "text/plain": [
              "(2, 4)"
            ]
          },
          "metadata": {},
          "execution_count": 12
        }
      ]
    },
    {
      "cell_type": "code",
      "source": [
        "np_array = np.array([(1,2,3,4), (5,6,7,8)], dtype = float)\n",
        "print(np_array)\n",
        "np_array.shape"
      ],
      "metadata": {
        "colab": {
          "base_uri": "https://localhost:8080/"
        },
        "id": "V81waLR7C_cs",
        "outputId": "d3245917-d895-4106-cd27-bd410d1017eb"
      },
      "execution_count": 14,
      "outputs": [
        {
          "output_type": "stream",
          "name": "stdout",
          "text": [
            "[[1. 2. 3. 4.]\n",
            " [5. 6. 7. 8.]]\n"
          ]
        },
        {
          "output_type": "execute_result",
          "data": {
            "text/plain": [
              "(2, 4)"
            ]
          },
          "metadata": {},
          "execution_count": 14
        }
      ]
    },
    {
      "cell_type": "markdown",
      "source": [
        "Initial placeholders in numpy arrays\n"
      ],
      "metadata": {
        "id": "IWb9W1a9DREH"
      }
    },
    {
      "cell_type": "code",
      "source": [
        "# Creating a numpy array of 0s\n",
        "x = np.zeros((3,3))\n",
        "print(x)"
      ],
      "metadata": {
        "colab": {
          "base_uri": "https://localhost:8080/"
        },
        "id": "jFOwPy0EDKT9",
        "outputId": "9ea9b198-7aba-4528-f613-b547c02052f1"
      },
      "execution_count": 15,
      "outputs": [
        {
          "output_type": "stream",
          "name": "stdout",
          "text": [
            "[[0. 0. 0.]\n",
            " [0. 0. 0.]\n",
            " [0. 0. 0.]]\n"
          ]
        }
      ]
    },
    {
      "cell_type": "code",
      "source": [
        "# Creating a numpy array of 1s\n",
        "x = np.ones((3,3))\n",
        "print(x)"
      ],
      "metadata": {
        "colab": {
          "base_uri": "https://localhost:8080/"
        },
        "id": "m2SREhtxDncx",
        "outputId": "c88658a5-ba40-4a35-e78d-e414f8da777c"
      },
      "execution_count": 16,
      "outputs": [
        {
          "output_type": "stream",
          "name": "stdout",
          "text": [
            "[[1. 1. 1.]\n",
            " [1. 1. 1.]\n",
            " [1. 1. 1.]]\n"
          ]
        }
      ]
    },
    {
      "cell_type": "code",
      "source": [
        "# Creating a numpy array with particular value\n",
        "y = np.full((4,3),77)\n",
        "print(y)"
      ],
      "metadata": {
        "colab": {
          "base_uri": "https://localhost:8080/"
        },
        "id": "WKgnj9edDtk_",
        "outputId": "a488bf95-ab7b-46b4-eaa8-ea69d3df36c1"
      },
      "execution_count": 17,
      "outputs": [
        {
          "output_type": "stream",
          "name": "stdout",
          "text": [
            "[[77 77 77]\n",
            " [77 77 77]\n",
            " [77 77 77]\n",
            " [77 77 77]]\n"
          ]
        }
      ]
    },
    {
      "cell_type": "code",
      "source": [
        "# Creating identity matrix\n",
        "i = np.eye(4)\n",
        "print(i)"
      ],
      "metadata": {
        "colab": {
          "base_uri": "https://localhost:8080/"
        },
        "id": "CbfVeiEAEeI0",
        "outputId": "2a18b020-c366-4d3d-936e-9965cdec183a"
      },
      "execution_count": 22,
      "outputs": [
        {
          "output_type": "stream",
          "name": "stdout",
          "text": [
            "[[1. 0. 0. 0.]\n",
            " [0. 1. 0. 0.]\n",
            " [0. 0. 1. 0.]\n",
            " [0. 0. 0. 1.]]\n"
          ]
        }
      ]
    },
    {
      "cell_type": "code",
      "source": [
        "# Creating a numpy array with random values\n",
        "r = np.random.random((3,4))\n",
        "print(r)"
      ],
      "metadata": {
        "colab": {
          "base_uri": "https://localhost:8080/"
        },
        "id": "W9-S85dWENBR",
        "outputId": "21413952-3e0b-4fa2-b5d1-d371e780f78b"
      },
      "execution_count": 21,
      "outputs": [
        {
          "output_type": "stream",
          "name": "stdout",
          "text": [
            "[[0.8123249  0.79699182 0.24197915 0.29054012]\n",
            " [0.18496784 0.45541198 0.01253609 0.32807293]\n",
            " [0.3999421  0.69939227 0.08082711 0.58603243]]\n"
          ]
        }
      ]
    },
    {
      "cell_type": "code",
      "source": [
        "# Creating a numpy array with random integer values with range\n",
        "r = np.random.randint(10, 100, (5,5))\n",
        "print(r)"
      ],
      "metadata": {
        "colab": {
          "base_uri": "https://localhost:8080/"
        },
        "id": "4Gq_wqk4Euhc",
        "outputId": "573f0abe-f0b2-4de3-c358-2e9171f821be"
      },
      "execution_count": 23,
      "outputs": [
        {
          "output_type": "stream",
          "name": "stdout",
          "text": [
            "[[28 85 43 36 56]\n",
            " [94 13 19 49 36]\n",
            " [12 24 18 59 61]\n",
            " [16 87 14 12 68]\n",
            " [50 56 24 24 92]]\n"
          ]
        }
      ]
    },
    {
      "cell_type": "code",
      "source": [
        "# Creating array of evenly spaced values\n",
        "es = np.linspace(10, 20, 7)\n",
        "print(es)"
      ],
      "metadata": {
        "colab": {
          "base_uri": "https://localhost:8080/"
        },
        "id": "pGJcyEm0FBPu",
        "outputId": "19b3bee9-7ebd-4730-c09d-021327c68b64"
      },
      "execution_count": 26,
      "outputs": [
        {
          "output_type": "stream",
          "name": "stdout",
          "text": [
            "[10.         11.66666667 13.33333333 15.         16.66666667 18.33333333\n",
            " 20.        ]\n"
          ]
        }
      ]
    },
    {
      "cell_type": "code",
      "source": [
        "# Creating array of evenly spaced values but specifying the step\n",
        "es = np.arange(5,30,2)\n",
        "print(es)"
      ],
      "metadata": {
        "colab": {
          "base_uri": "https://localhost:8080/"
        },
        "id": "p1evVb4fFZS8",
        "outputId": "01204c2b-738f-428b-c85f-a02879cd07de"
      },
      "execution_count": 29,
      "outputs": [
        {
          "output_type": "stream",
          "name": "stdout",
          "text": [
            "[ 5  7  9 11 13 15 17 19 21 23 25 27 29]\n"
          ]
        }
      ]
    },
    {
      "cell_type": "code",
      "source": [
        "# Converting a list into numpy array \n",
        "list = [1,2,3,4,5]\n",
        "\n",
        "np_list = np.asarray(list)\n",
        "print(np_list)\n",
        "type(np_list)"
      ],
      "metadata": {
        "colab": {
          "base_uri": "https://localhost:8080/"
        },
        "id": "Toncc9hqF2mA",
        "outputId": "f2c22ab3-f505-4bca-8708-0efb11d25277"
      },
      "execution_count": 30,
      "outputs": [
        {
          "output_type": "stream",
          "name": "stdout",
          "text": [
            "[1 2 3 4 5]\n"
          ]
        },
        {
          "output_type": "execute_result",
          "data": {
            "text/plain": [
              "numpy.ndarray"
            ]
          },
          "metadata": {},
          "execution_count": 30
        }
      ]
    },
    {
      "cell_type": "markdown",
      "source": [
        "Analysis of numpy array"
      ],
      "metadata": {
        "id": "jSGjvxWAGj6Y"
      }
    },
    {
      "cell_type": "code",
      "source": [
        "r = np.random.randint(30, 300, (5,4))\n",
        "print(r)"
      ],
      "metadata": {
        "colab": {
          "base_uri": "https://localhost:8080/"
        },
        "id": "dtw3eFLzGN3e",
        "outputId": "210ae57f-79ea-4cf8-fdd4-509c7d2621c6"
      },
      "execution_count": 31,
      "outputs": [
        {
          "output_type": "stream",
          "name": "stdout",
          "text": [
            "[[237 117  93 255]\n",
            " [ 57 268  87 187]\n",
            " [236 267 215 111]\n",
            " [201  77 237 237]\n",
            " [ 83  40  63 145]]\n"
          ]
        }
      ]
    },
    {
      "cell_type": "code",
      "source": [
        "# Array Size\n",
        "print(r.shape)"
      ],
      "metadata": {
        "colab": {
          "base_uri": "https://localhost:8080/"
        },
        "id": "H1vIdNp9GtxU",
        "outputId": "53155171-2886-4746-95ed-631002f38084"
      },
      "execution_count": 34,
      "outputs": [
        {
          "output_type": "stream",
          "name": "stdout",
          "text": [
            "(5, 4)\n"
          ]
        }
      ]
    },
    {
      "cell_type": "code",
      "source": [
        "# Array Dimension\n",
        "print(r.ndim)"
      ],
      "metadata": {
        "colab": {
          "base_uri": "https://localhost:8080/"
        },
        "id": "vzVe-Fp6Gyzt",
        "outputId": "492d042e-d4ca-4b0d-c1cb-78e552d5b9e8"
      },
      "execution_count": 35,
      "outputs": [
        {
          "output_type": "stream",
          "name": "stdout",
          "text": [
            "2\n"
          ]
        }
      ]
    },
    {
      "cell_type": "code",
      "source": [
        "# Number of elements in array\n",
        "print(r.size)"
      ],
      "metadata": {
        "colab": {
          "base_uri": "https://localhost:8080/"
        },
        "id": "dZ3vOxeLHB8n",
        "outputId": "3f4b9343-9780-4050-861c-7592fd5946e5"
      },
      "execution_count": 37,
      "outputs": [
        {
          "output_type": "stream",
          "name": "stdout",
          "text": [
            "20\n"
          ]
        }
      ]
    },
    {
      "cell_type": "code",
      "source": [
        "# Checking Data Type of elements\n",
        "print(r.dtype)"
      ],
      "metadata": {
        "colab": {
          "base_uri": "https://localhost:8080/"
        },
        "id": "tLYLe3MdHINL",
        "outputId": "d43143e0-02f8-4839-cefc-79ee65da3025"
      },
      "execution_count": 38,
      "outputs": [
        {
          "output_type": "stream",
          "name": "stdout",
          "text": [
            "int64\n"
          ]
        }
      ]
    },
    {
      "cell_type": "markdown",
      "source": [
        "Mathematical Operation"
      ],
      "metadata": {
        "id": "klzv_3qbHerM"
      }
    },
    {
      "cell_type": "code",
      "source": [
        "# List \n",
        "l1 = [1,2,3,4,5]\n",
        "l2 = [1,2,3,4,5]\n",
        "print(l1 + l2)"
      ],
      "metadata": {
        "colab": {
          "base_uri": "https://localhost:8080/"
        },
        "id": "wJIM6gp8Hcb_",
        "outputId": "58e9650b-8f0d-4964-a38d-2570e8457ab6"
      },
      "execution_count": 40,
      "outputs": [
        {
          "output_type": "stream",
          "name": "stdout",
          "text": [
            "[1, 2, 3, 4, 5, 1, 2, 3, 4, 5]\n"
          ]
        }
      ]
    },
    {
      "cell_type": "code",
      "source": [
        "# Numpy Array\n",
        "a1 = np.array([1,2,3,4,5])\n",
        "a2 = np.array([1,2,3,4,5])\n",
        "print(a1 + a2)"
      ],
      "metadata": {
        "colab": {
          "base_uri": "https://localhost:8080/"
        },
        "id": "kbk_ZobPHmOt",
        "outputId": "b8a12cbc-17a2-4e29-b205-1c12ca679480"
      },
      "execution_count": 42,
      "outputs": [
        {
          "output_type": "stream",
          "name": "stdout",
          "text": [
            "[ 2  4  6  8 10]\n"
          ]
        }
      ]
    },
    {
      "cell_type": "code",
      "source": [
        "print(np.add(a1,a2))\n",
        "print(np.subtract(a1,a2))\n",
        "print(np.multiply(a1,a2))\n",
        "print(np.divide(a1,a2))"
      ],
      "metadata": {
        "colab": {
          "base_uri": "https://localhost:8080/"
        },
        "id": "BZ5HJGBNHzGu",
        "outputId": "533fb483-6e86-469f-eff2-aeacefb083d3"
      },
      "execution_count": 45,
      "outputs": [
        {
          "output_type": "stream",
          "name": "stdout",
          "text": [
            "[ 2  4  6  8 10]\n",
            "[0 0 0 0 0]\n",
            "[ 1  4  9 16 25]\n",
            "[1. 1. 1. 1. 1.]\n"
          ]
        }
      ]
    },
    {
      "cell_type": "markdown",
      "source": [
        "Array Manipulation"
      ],
      "metadata": {
        "id": "bK3uDUdEIqXO"
      }
    },
    {
      "cell_type": "code",
      "source": [
        "array = np.random.randint(1, 10, (2,3))\n",
        "print(array)\n",
        "print(array.shape)"
      ],
      "metadata": {
        "colab": {
          "base_uri": "https://localhost:8080/"
        },
        "id": "vZ17ulqNIe-m",
        "outputId": "edbafd15-588f-42cb-9df1-79e4bffea3a5"
      },
      "execution_count": 52,
      "outputs": [
        {
          "output_type": "stream",
          "name": "stdout",
          "text": [
            "[[5 2 7]\n",
            " [1 9 9]]\n",
            "(2, 3)\n"
          ]
        }
      ]
    },
    {
      "cell_type": "code",
      "source": [
        "# Transpose (Rows converted to columns and vice-versa)\n",
        "trans = np.transpose(array)\n",
        "print(trans)"
      ],
      "metadata": {
        "colab": {
          "base_uri": "https://localhost:8080/"
        },
        "id": "zRNwnxdpI3Uz",
        "outputId": "a354faa6-55f2-407c-ccb4-764b9a708512"
      },
      "execution_count": 54,
      "outputs": [
        {
          "output_type": "stream",
          "name": "stdout",
          "text": [
            "[[5 1]\n",
            " [2 9]\n",
            " [7 9]]\n"
          ]
        }
      ]
    },
    {
      "cell_type": "code",
      "source": [
        "# Reshaping a array\n",
        "a = np.random.randint(0,10, (3,4))\n",
        "print(a)\n",
        "print(a.shape)"
      ],
      "metadata": {
        "colab": {
          "base_uri": "https://localhost:8080/"
        },
        "id": "EEIjLBSMJEoo",
        "outputId": "03a2c835-ffa2-45dc-96c6-d43b599fde06"
      },
      "execution_count": 55,
      "outputs": [
        {
          "output_type": "stream",
          "name": "stdout",
          "text": [
            "[[2 3 0 8]\n",
            " [1 2 6 7]\n",
            " [0 7 9 5]]\n",
            "(3, 4)\n"
          ]
        }
      ]
    },
    {
      "cell_type": "code",
      "source": [
        "b = a.reshape(4,3)\n",
        "print(b)\n",
        "print(b.shape)"
      ],
      "metadata": {
        "colab": {
          "base_uri": "https://localhost:8080/"
        },
        "id": "K7xKII6HJ4k2",
        "outputId": "e4d8a394-e4a6-4758-b66b-67ce297986a7"
      },
      "execution_count": 56,
      "outputs": [
        {
          "output_type": "stream",
          "name": "stdout",
          "text": [
            "[[2 3 0]\n",
            " [8 1 2]\n",
            " [6 7 0]\n",
            " [7 9 5]]\n",
            "(4, 3)\n"
          ]
        }
      ]
    },
    {
      "cell_type": "code",
      "source": [],
      "metadata": {
        "id": "EZ0B1rVfKJHE"
      },
      "execution_count": null,
      "outputs": []
    }
  ]
}